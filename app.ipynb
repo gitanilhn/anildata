{
 "cells": [
  {
   "cell_type": "code",
   "execution_count": null,
   "id": "a07bbeb8",
   "metadata": {
    "vscode": {
     "languageId": "plaintext"
    }
   },
   "outputs": [],
   "source": [
    "qeis"
   ]
  }
 ],
 "metadata": {
  "language_info": {
   "name": "python"
  }
 },
 "nbformat": 4,
 "nbformat_minor": 5
}
